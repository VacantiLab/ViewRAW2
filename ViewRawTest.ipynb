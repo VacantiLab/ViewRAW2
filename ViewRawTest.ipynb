{
 "cells": [
  {
   "cell_type": "code",
   "execution_count": 1,
   "metadata": {},
   "outputs": [],
   "source": [
    "from bokeh.plotting import figure\n",
    "from bokeh.models import ColumnDataSource\n",
    "from bokeh.layouts import column\n",
    "from bokeh.io import curdoc\n",
    "from bokeh.models import TextInput, NumeralTickFormatter, PrintfTickFormatter\n",
    "from bokeh.events import DoubleTap, Tap\n",
    "\n",
    "from fisher_py import RawFile\n",
    "from fisher_py.data.business import TraceType, Scan\n",
    "import numpy as np\n",
    "import os\n",
    "\n",
    "from pdb import set_trace"
   ]
  },
  {
   "cell_type": "code",
   "execution_count": 2,
   "metadata": {},
   "outputs": [],
   "source": [
    "filename = '/Users/nate/Dropbox/Research/Vacanti_Laboratory/projects/DNS_MassSpectrometry/ReadRawFile/ViewRAW/YY2019060827.raw'\n",
    "raw_file = RawFile(filename)\n",
    "\n",
    "\n",
    "target_mass = 205.098\n",
    "mass_tolerance_ppm = 10\n",
    "rt, i = raw_file.get_chromatogram(target_mass, mass_tolerance_ppm,TraceType.MassRange)\n",
    "mz, i2, charges, real_rt = raw_file.get_scan_ms1(5.7)"
   ]
  },
  {
   "cell_type": "code",
   "execution_count": 10,
   "metadata": {},
   "outputs": [
    {
     "ename": "TypeError",
     "evalue": "RawFile._get_ms_scan_numbers_and_retention_times_() missing 1 required positional argument: 'ms_order'",
     "output_type": "error",
     "traceback": [
      "\u001b[0;31m---------------------------------------------------------------------------\u001b[0m",
      "\u001b[0;31mTypeError\u001b[0m                                 Traceback (most recent call last)",
      "\u001b[1;32m/Users/nate/git_hub_tools/ViewRAW2/ViewRawTest.ipynb Cell 3\u001b[0m line \u001b[0;36m1\n\u001b[0;32m----> <a href='vscode-notebook-cell:/Users/nate/git_hub_tools/ViewRAW2/ViewRawTest.ipynb#W2sZmlsZQ%3D%3D?line=0'>1</a>\u001b[0m raw_file\u001b[39m.\u001b[39m_get_ms_scan_numbers_and_retention_times_()\n",
      "\u001b[0;31mTypeError\u001b[0m: RawFile._get_ms_scan_numbers_and_retention_times_() missing 1 required positional argument: 'ms_order'"
     ]
    }
   ],
   "source": [
    "raw_file._get_ms_scan_numbers_and_retention_times_()"
   ]
  },
  {
   "cell_type": "code",
   "execution_count": 9,
   "metadata": {},
   "outputs": [
    {
     "data": {
      "text/plain": [
       "['__class__',\n",
       " '__delattr__',\n",
       " '__dict__',\n",
       " '__dir__',\n",
       " '__doc__',\n",
       " '__eq__',\n",
       " '__format__',\n",
       " '__ge__',\n",
       " '__getattribute__',\n",
       " '__getstate__',\n",
       " '__gt__',\n",
       " '__hash__',\n",
       " '__init__',\n",
       " '__init_subclass__',\n",
       " '__le__',\n",
       " '__lt__',\n",
       " '__module__',\n",
       " '__ne__',\n",
       " '__new__',\n",
       " '__reduce__',\n",
       " '__reduce_ex__',\n",
       " '__repr__',\n",
       " '__setattr__',\n",
       " '__sizeof__',\n",
       " '__str__',\n",
       " '__subclasshook__',\n",
       " '__weakref__',\n",
       " '_get_ms2_scan_numbers_and_masses_',\n",
       " '_get_ms_scan_numbers_and_retention_times_',\n",
       " '_get_scan_',\n",
       " '_get_scan_filter_precursor_mass_',\n",
       " '_get_scan_numbers_and_retention_times_',\n",
       " '_ms1_retention_times',\n",
       " '_ms1_scan_numbers',\n",
       " '_ms2_filter_masses',\n",
       " '_ms2_filter_scan_numbers',\n",
       " '_ms2_filter_unique_filter_masses',\n",
       " '_ms2_retention_times',\n",
       " '_ms2_scan_numbers',\n",
       " '_path',\n",
       " '_raw_file_access',\n",
       " '_result_string_cache',\n",
       " '_retention_times',\n",
       " '_scan_numbers',\n",
       " '_spectrum_cache',\n",
       " 'first_scan',\n",
       " 'get_average_ms2_scans_by_rt',\n",
       " 'get_averaged_ms2_scans',\n",
       " 'get_chromatogram',\n",
       " 'get_ms1_scan_number_from_retention_time',\n",
       " 'get_ms2_scan_number_from_retention_time',\n",
       " 'get_retention_time_from_scan_number',\n",
       " 'get_scan',\n",
       " 'get_scan_event_str_from_scan_number',\n",
       " 'get_scan_from_scan_number',\n",
       " 'get_scan_ms1',\n",
       " 'get_scan_ms2',\n",
       " 'get_scan_number_from_retention_time',\n",
       " 'get_tic_ms2',\n",
       " 'last_scan',\n",
       " 'ms2_filter_masses',\n",
       " 'number_of_scans',\n",
       " 'path',\n",
       " 'total_time_min']"
      ]
     },
     "execution_count": 9,
     "metadata": {},
     "output_type": "execute_result"
    }
   ],
   "source": [
    "dir(raw_file)"
   ]
  }
 ],
 "metadata": {
  "kernelspec": {
   "display_name": "raw",
   "language": "python",
   "name": "python3"
  },
  "language_info": {
   "codemirror_mode": {
    "name": "ipython",
    "version": 3
   },
   "file_extension": ".py",
   "mimetype": "text/x-python",
   "name": "python",
   "nbconvert_exporter": "python",
   "pygments_lexer": "ipython3",
   "version": "3.11.4"
  }
 },
 "nbformat": 4,
 "nbformat_minor": 2
}
